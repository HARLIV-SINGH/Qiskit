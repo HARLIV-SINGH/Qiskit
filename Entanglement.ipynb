{
 "cells": [
  {
   "cell_type": "markdown",
   "id": "b2581b7c-0b03-43e7-bd17-8b29565f3a34",
   "metadata": {},
   "source": [
    "# Quantum Entanglement"
   ]
  },
  {
   "cell_type": "code",
   "execution_count": 6,
   "id": "5e96d157-6b47-47be-86cf-aeb8b3d98c6e",
   "metadata": {},
   "outputs": [],
   "source": [
    "from qiskit import QuantumCircuit\n",
    "from qiskit_aer import Aer\n",
    "import matplotlib as mpl"
   ]
  },
  {
   "cell_type": "code",
   "execution_count": 7,
   "id": "d3f250d5-28d4-466b-b80e-a19ce854ea7a",
   "metadata": {},
   "outputs": [
    {
     "name": "stdout",
     "output_type": "stream",
     "text": [
      "[0.70710678+0.j 0.        +0.j 0.        +0.j 0.70710678+0.j]\n"
     ]
    }
   ],
   "source": [
    "#Create a circuit\n",
    "qc = QuantumCircuit(2)\n",
    "\n",
    "#Apply entanglement\n",
    "qc.h(0)\n",
    "qc.cx(0,1)\n",
    "\n",
    "#Run on Aer simulator\n",
    "sim = Aer.get_backend('aer_simulator')\n",
    "qc.save_statevector()\n",
    "state = sim.run(qc).result().get_statevector(qc)\n",
    "\n",
    "print(state.data)"
   ]
  },
  {
   "cell_type": "markdown",
   "id": "e70e7a33-1db7-4eae-9cc8-6b0dea386e52",
   "metadata": {},
   "source": [
    "This state is one of the bell states - (|00> + |11>)/√2\n",
    "\n",
    "These qubits are now entangled"
   ]
  },
  {
   "cell_type": "code",
   "execution_count": 10,
   "id": "9c02c859-acd5-48d1-a794-461e17effec9",
   "metadata": {},
   "outputs": [
    {
     "data": {
      "image/png": "[encoded data removed]",
      "text/plain": [
       "<Figure size 538.128x200.667 with 1 Axes>"
      ]
     },
     "execution_count": 10,
     "metadata": {},
     "output_type": "execute_result"
    }
   ],
   "source": [
    "qc.draw('mpl')"
   ]
  }
 ],
 "metadata": {
  "kernelspec": {
   "display_name": "Python 3 (ipykernel)",
   "language": "python",
   "name": "python3"
  },
  "language_info": {
   "codemirror_mode": {
    "name": "ipython",
    "version": 3
   },
   "file_extension": ".py",
   "mimetype": "text/x-python",
   "name": "python",
   "nbconvert_exporter": "python",
   "pygments_lexer": "ipython3",
   "version": "3.13.5"
  }
 },
 "nbformat": 4,
 "nbformat_minor": 5
}
